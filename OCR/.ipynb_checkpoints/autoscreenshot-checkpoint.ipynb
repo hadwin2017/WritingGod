{
 "cells": [
  {
   "cell_type": "code",
   "execution_count": 118,
   "metadata": {},
   "outputs": [],
   "source": [
    "import pyautogui\n",
    "import time\n",
    "import numpy as np\n",
    "import matplotlib.pyplot as plt\n",
    "import cv2"
   ]
  },
  {
   "cell_type": "code",
   "execution_count": null,
   "metadata": {},
   "outputs": [],
   "source": [
    "def reread():\n",
    "    pyautogui.click(1842, 89)\n",
    "    pyautogui.click(1752, 432)\n",
    "def showall():\n",
    "    pyautogui.moveTo(1329,298)\n",
    "    pyautogui.mouseDown()\n",
    "    time.sleep(1)\n",
    "    pyautogui.mouseUp()"
   ]
  },
  {
   "cell_type": "code",
   "execution_count": 108,
   "metadata": {},
   "outputs": [],
   "source": [
    "im = pyautogui.screenshot(region=(1323,39, 1876-1323, 1024-39))\n",
    "im = np.array(im)\n",
    "im.shape"
   ]
  },
  {
   "cell_type": "code",
   "execution_count": 106,
   "metadata": {},
   "outputs": [
    {
     "data": {
      "text/plain": [
       "Point(x=1876, y=1024)"
      ]
     },
     "execution_count": 106,
     "metadata": {},
     "output_type": "execute_result"
    }
   ],
   "source": [
    "while 1:\n",
    "    reread()\n",
    "    showall()\n",
    "    pyautogui.click(1600, 15)\n",
    "    pyautogui.moveTo(1600,h/2)\n",
    "    pyautogui.scroll(-120)\n",
    "    im = pyautogui.screenshot(region=(1323,40, 1876-1323, 1024-40))\n",
    "    im = np.array(im)\n",
    "    gray = cv2.cvtColor(im,cv2.COLOR_BGR2GRAY)\n",
    "    blurImg = cv2.medianBlur(gray,5)\n",
    "    circles = cv2.HoughCircles(blurImg,cv2.HOUGH_GRADIENT,\n",
    "                               1,120,param1 = 100,param2 = 30,\n",
    "                               minRadius = 30,maxRadius=50)\n",
    "    circles = numpy.uint16(numpy.around(circles))\n",
    "    \n",
    "    rose = []\n",
    "    for i in circles[0,:]:\n",
    "        rose.append((i[1],i[2]))\n",
    "    sortrose = sorted(rose[0])\n",
    "    print(rose)\n",
    "\n"
   ]
  },
  {
   "cell_type": "code",
   "execution_count": 164,
   "metadata": {},
   "outputs": [
    {
     "name": "stdout",
     "output_type": "stream",
     "text": [
      "[620, 742, 336, 866]\n",
      "[336, 620, 742, 866]\n",
      "找到最后一个头像坐标:866\n"
     ]
    },
    {
     "ename": "ValueError",
     "evalue": "The truth value of an array with more than one element is ambiguous. Use a.any() or a.all()",
     "output_type": "error",
     "traceback": [
      "\u001b[1;31m---------------------------------------------------------------------------\u001b[0m",
      "\u001b[1;31mValueError\u001b[0m                                Traceback (most recent call last)",
      "\u001b[1;32m<ipython-input-164-a04b686c9f5c>\u001b[0m in \u001b[0;36m<module>\u001b[1;34m\u001b[0m\n\u001b[0;32m     27\u001b[0m \u001b[0mim2\u001b[0m \u001b[1;33m=\u001b[0m \u001b[0mpyautogui\u001b[0m\u001b[1;33m.\u001b[0m\u001b[0mscreenshot\u001b[0m\u001b[1;33m(\u001b[0m\u001b[0mregion\u001b[0m\u001b[1;33m=\u001b[0m\u001b[1;33m(\u001b[0m\u001b[1;36m1323\u001b[0m\u001b[1;33m,\u001b[0m\u001b[1;36m40\u001b[0m\u001b[1;33m,\u001b[0m \u001b[1;36m1876\u001b[0m\u001b[1;33m-\u001b[0m\u001b[1;36m1323\u001b[0m\u001b[1;33m,\u001b[0m \u001b[1;36m1024\u001b[0m\u001b[1;33m-\u001b[0m\u001b[1;36m40\u001b[0m\u001b[1;33m)\u001b[0m\u001b[1;33m)\u001b[0m\u001b[1;33m\u001b[0m\u001b[1;33m\u001b[0m\u001b[0m\n\u001b[0;32m     28\u001b[0m \u001b[0mim2\u001b[0m \u001b[1;33m=\u001b[0m \u001b[0mnp\u001b[0m\u001b[1;33m.\u001b[0m\u001b[0marray\u001b[0m\u001b[1;33m(\u001b[0m\u001b[0mim2\u001b[0m\u001b[1;33m)\u001b[0m\u001b[1;33m\u001b[0m\u001b[1;33m\u001b[0m\u001b[0m\n\u001b[1;32m---> 29\u001b[1;33m \u001b[1;32mwhile\u001b[0m\u001b[1;33m(\u001b[0m\u001b[0mim\u001b[0m\u001b[1;33m!=\u001b[0m\u001b[0mim2\u001b[0m\u001b[1;33m)\u001b[0m\u001b[1;33m:\u001b[0m\u001b[1;33m\u001b[0m\u001b[1;33m\u001b[0m\u001b[0m\n\u001b[0m\u001b[0;32m     30\u001b[0m     \u001b[0mim\u001b[0m \u001b[1;33m=\u001b[0m\u001b[0mim2\u001b[0m\u001b[1;33m\u001b[0m\u001b[1;33m\u001b[0m\u001b[0m\n\u001b[0;32m     31\u001b[0m     \u001b[0mgray\u001b[0m \u001b[1;33m=\u001b[0m \u001b[0mcv2\u001b[0m\u001b[1;33m.\u001b[0m\u001b[0mcvtColor\u001b[0m\u001b[1;33m(\u001b[0m\u001b[0mim\u001b[0m\u001b[1;33m,\u001b[0m\u001b[0mcv2\u001b[0m\u001b[1;33m.\u001b[0m\u001b[0mCOLOR_BGR2GRAY\u001b[0m\u001b[1;33m)\u001b[0m\u001b[1;33m\u001b[0m\u001b[1;33m\u001b[0m\u001b[0m\n",
      "\u001b[1;31mValueError\u001b[0m: The truth value of an array with more than one element is ambiguous. Use a.any() or a.all()"
     ]
    }
   ],
   "source": [
    "reread()\n",
    "showall()\n",
    "pyautogui.click(1600, 15)\n",
    "pyautogui.moveTo(1600,h/2)\n",
    "pyautogui.scroll(-120)\n",
    "im = pyautogui.screenshot(region=(1323,40, 1876-1323, 1024-40))\n",
    "im = np.array(im)\n",
    "gray = cv2.cvtColor(im,cv2.COLOR_BGR2GRAY)\n",
    "blurImg = cv2.medianBlur(gray,5)\n",
    "circles = cv2.HoughCircles(blurImg,cv2.HOUGH_GRADIENT,\n",
    "                           1,120,param1 = 100,param2 = 30,\n",
    "                           minRadius = 20,maxRadius=40)\n",
    "circles = np.uint16(np.around(circles))\n",
    "\n",
    "rose = []\n",
    "for i in circles[0,:]:\n",
    "    rose.append(i[1])\n",
    "sortrose = sorted(rose)\n",
    "lastrose = sortrose[-1]\n",
    "print(rose)\n",
    "print(sortrose)\n",
    "print(\"找到最后一个头像坐标:\"+str(lastrose))\n",
    "indexH = 40 + lastrose\n",
    "pyautogui.moveTo(1329,indexH)\n",
    "pyautogui.dragTo(1329,28+60,1,button='left')\n",
    "time.sleep(0.1)\n",
    "im2 = pyautogui.screenshot(region=(1323,40, 1876-1323, 1024-40))\n",
    "im2 = np.array(im2)\n",
    "difference = cv2.subtract(im, im2)\n",
    "result = not np.any(difference) \n",
    "while(!result):\n",
    "    im =im2\n",
    "    gray = cv2.cvtColor(im,cv2.COLOR_BGR2GRAY)\n",
    "    blurImg = cv2.medianBlur(gray,5)\n",
    "    circles = cv2.HoughCircles(blurImg,cv2.HOUGH_GRADIENT,\n",
    "                               1,120,param1 = 100,param2 = 30,\n",
    "                               minRadius = 20,maxRadius=40)\n",
    "    circles = np.uint16(np.around(circles))\n",
    "\n",
    "    rose = []\n",
    "    for i in circles[0,:]:\n",
    "        rose.append(i[1])\n",
    "    sortrose = sorted(rose)\n",
    "    lastrose = sortrose[-1]\n",
    "    print(rose)\n",
    "    print(sortrose)\n",
    "    print(\"找到最后一个头像坐标:\"+str(lastrose))\n",
    "    indexH = 40 + lastrose\n",
    "    pyautogui.moveTo(1329,indexH)\n",
    "    pyautogui.dragTo(1329,28+60,1,button='left')\n",
    "    time.sleep(0.1)\n",
    "    im2 = pyautogui.screenshot(region=(1323,40, 1876-1323, 1024-40))\n",
    "    im2 = np.array(im2)\n",
    "    time.sleep(5)\n",
    "    plt.figure(figsize=(20,20))\n",
    "    plt.imshow(im2)\n",
    "    plt.show()\n",
    "    difference = cv2.subtract(im, im2)\n",
    "    result = not np.any(difference) \n",
    "\n",
    "\n"
   ]
  },
  {
   "cell_type": "code",
   "execution_count": 6,
   "metadata": {},
   "outputs": [],
   "source": [
    "w, h = pyautogui.size()\n",
    "pyautogui.click()"
   ]
  },
  {
   "cell_type": "code",
   "execution_count": 113,
   "metadata": {},
   "outputs": [],
   "source": []
  },
  {
   "cell_type": "code",
   "execution_count": 116,
   "metadata": {},
   "outputs": [],
   "source": [
    "reread()\n",
    "showall()\n",
    "for i in range(10):\n",
    "    pyautogui.scroll(-142)"
   ]
  },
  {
   "cell_type": "code",
   "execution_count": 85,
   "metadata": {},
   "outputs": [],
   "source": [
    "pyautogui.click(1331, 298)\n",
    "for i in range(5):\n",
    "    pyautogui.scroll(-240)"
   ]
  },
  {
   "cell_type": "code",
   "execution_count": 137,
   "metadata": {},
   "outputs": [],
   "source": []
  },
  {
   "cell_type": "code",
   "execution_count": 43,
   "metadata": {},
   "outputs": [
    {
     "data": {
      "text/plain": [
       "Point(x=1331, y=458)"
      ]
     },
     "execution_count": 43,
     "metadata": {},
     "output_type": "execute_result"
    }
   ],
   "source": [
    "pyautogui.position()"
   ]
  },
  {
   "cell_type": "code",
   "execution_count": 9,
   "metadata": {},
   "outputs": [],
   "source": [
    "\n",
    "time.sleep(1)\n",
    "pyautogui.scroll(-14640)"
   ]
  },
  {
   "cell_type": "code",
   "execution_count": 3,
   "metadata": {},
   "outputs": [],
   "source": [
    "for i in range(12):\n",
    "    pyautogui.scroll(-1000)\n",
    "time.sleep(1)\n",
    "for i in range(12):\n",
    "    pyautogui.scroll(-200)\n",
    "time.sleep(1)\n",
    "for i in range(12):\n",
    "    pyautogui.scroll(-200)\n",
    "time.sleep(1)\n",
    "for i in range(12):\n",
    "    pyautogui.scroll(-200)"
   ]
  },
  {
   "cell_type": "code",
   "execution_count": null,
   "metadata": {},
   "outputs": [],
   "source": [
    "\n"
   ]
  }
 ],
 "metadata": {
  "kernelspec": {
   "display_name": "Python 3",
   "language": "python",
   "name": "python3"
  },
  "language_info": {
   "codemirror_mode": {
    "name": "ipython",
    "version": 3
   },
   "file_extension": ".py",
   "mimetype": "text/x-python",
   "name": "python",
   "nbconvert_exporter": "python",
   "pygments_lexer": "ipython3",
   "version": "3.7.1"
  }
 },
 "nbformat": 4,
 "nbformat_minor": 2
}
